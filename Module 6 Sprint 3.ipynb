{
 "cells": [
  {
   "cell_type": "code",
   "execution_count": 65,
   "metadata": {},
   "outputs": [],
   "source": [
    "# deleting a table\n",
    "import mysql.connector\n",
    "mydb = mysql.connector.connect(\n",
    "    host=\"localhost\",\n",
    "    user=\"root\",\n",
    "    password=\"C@pac1t!\",\n",
    "    database=\"mydatabase\"\n",
    ")\n",
    "\n",
    "mycursor = mydb.cursor()\n",
    "sql = \"DROP TABLE IF EXISTS prods\" #product was the table\n",
    "mycursor.execute(sql)\n",
    "\n",
    "mydb.commit()"
   ]
  },
  {
   "cell_type": "code",
   "execution_count": 66,
   "metadata": {},
   "outputs": [],
   "source": [
    "# create a table for the products on mydatabase\n",
    "import mysql.connector\n",
    "mydb = mysql.connector.connect(\n",
    "    host=\"localhost\",\n",
    "    user=\"root\",\n",
    "    password=\"C@pac1t!\",\n",
    "    database=\"mydatabase\"\n",
    ")\n",
    "\n",
    "mycursor = mydb.cursor()\n",
    "\n",
    "mycursor.execute(\"CREATE TABLE prods(Id INT AUTO_INCREMENT PRIMARY KEY, Name VARCHAR(255), Category VARCHAR(255))\")"
   ]
  },
  {
   "cell_type": "code",
   "execution_count": 67,
   "metadata": {},
   "outputs": [],
   "source": [
    "# create a table for the products on mydatabase\n",
    "import mysql.connector\n",
    "mydb = mysql.connector.connect(\n",
    "    host=\"localhost\",\n",
    "    user=\"root\",\n",
    "    password=\"C@pac1t!\",\n",
    "    database=\"mydatabase\"\n",
    ")\n",
    "\n",
    "mycursor = mydb.cursor()\n",
    "\n",
    "sqlFormula = \"INSERT INTO prods(Id, Name, Category) VALUES(%s,%s,%s)\"\n",
    "data = [(1, 'Simba', 'Chips'),\n",
    "            (2, 'Lays', 'Chips'),\n",
    "            (3, 'Coke','Cooldrinks'),\n",
    "            (4, 'Fanta','Cooldrinks'),\n",
    "            (5, 'Chocolate','Chocolate'),\n",
    "            (6, 'Tex','Chocolate'),\n",
    "            (7,'Pepper Steak','Pies'),\n",
    "            (8, 'Chicken', 'Pies'),\n",
    "            (9, 'Pear', 'Fruits'),\n",
    "            (10, 'Apple','Fruits'),\n",
    "            (11,'Orange', 'Fruits'),\n",
    "            (12, 'Vanilla', 'Cupcakes'),\n",
    "            (13, 'Chocolate', 'Cupcake'),\n",
    "            (14, 'Spinach', 'Veggies'),\n",
    "            (15,'Cabbage','Veggies')]\n",
    "\n",
    "mycursor.executemany(sqlFormula, data)\n",
    "\n",
    "mydb.commit()"
   ]
  },
  {
   "cell_type": "code",
   "execution_count": 68,
   "metadata": {},
   "outputs": [],
   "source": [
    "# SPRINT 3"
   ]
  },
  {
   "cell_type": "code",
   "execution_count": 69,
   "metadata": {},
   "outputs": [],
   "source": [
    "# Create new column\n",
    "\n",
    "import mysql.connector\n",
    "mydb = mysql.connector.connect(\n",
    "    host=\"localhost\",\n",
    "    user=\"root\",\n",
    "    password=\"C@pac1t!\",\n",
    "    database=\"mydatabase\"\n",
    ")\n",
    "\n",
    "mycursor = mydb.cursor()\n",
    "\n",
    "mycursor.execute(\"ALTER TABLE prods ADD Stock_availability INT(10) AFTER Category, ADD Selling_price INT(10) AFTER Stock_availability\")"
   ]
  },
  {
   "cell_type": "code",
   "execution_count": null,
   "metadata": {},
   "outputs": [],
   "source": []
  },
  {
   "cell_type": "code",
   "execution_count": 70,
   "metadata": {},
   "outputs": [],
   "source": [
    "# Add new products\n",
    "\n",
    "import mysql.connector\n",
    "mydb = mysql.connector.connect(\n",
    "    host=\"localhost\",\n",
    "    user=\"root\",\n",
    "    password=\"C@pac1t!\",\n",
    "    database=\"mydatabase\"\n",
    ")\n",
    "\n",
    "mycursor = mydb.cursor()\n",
    "\n",
    "sqlFormula = \"INSERT INTO prods(Id, Name, Category) VALUES(%s,%s,%s)\"\n",
    "data = [(16, 'Chicken', 'Meat'),\n",
    "            (17, 'Beef', 'Meat'),\n",
    "            (18, 'Pork','Meat'),\n",
    "            (19, 'Corona','Alcohol'),\n",
    "            (20, 'Clipdrift','Alcohol')]\n",
    "\n",
    "mycursor.executemany(sqlFormula, data)\n",
    "\n",
    "mydb.commit()"
   ]
  },
  {
   "cell_type": "code",
   "execution_count": 71,
   "metadata": {},
   "outputs": [],
   "source": [
    "# Insert prods on new columns\n",
    "\n",
    "import mysql.connector\n",
    "mydb = mysql.connector.connect(\n",
    "    host=\"localhost\",\n",
    "    user=\"root\",\n",
    "    password=\"C@pac1t!\",\n",
    "    database=\"mydatabase\"\n",
    ")\n",
    "\n",
    "mycursor = mydb.cursor()\n",
    "\n",
    "mycursor.executemany(\"Update prods SET Stock_availability = %s where Id = %s\",[(23 , \"1\"),(45 , \"2\"),(28, \"3\"),(18, \"4\"),(58, \"5\"),(40, \"6\"),(25, \"7\"),(78, \"8\"),(39, \"9\"),(4, \"10\"),(11, \"11\"),(40, \"12\"),(18, \"13\"),(13, \"14\"),(28, \"15\"),(17, \"16\"),(38, \"17\"),(24, \"18\"),(49, \"19\"),(20, \"20\")])\n",
    "\n",
    "mydb.commit()"
   ]
  },
  {
   "cell_type": "code",
   "execution_count": 72,
   "metadata": {},
   "outputs": [],
   "source": [
    "# Insert prods on new columns\n",
    "\n",
    "import mysql.connector\n",
    "mydb = mysql.connector.connect(\n",
    "    host=\"localhost\",\n",
    "    user=\"root\",\n",
    "    password=\"C@pac1t!\",\n",
    "    database=\"mydatabase\"\n",
    ")\n",
    "\n",
    "mycursor = mydb.cursor()\n",
    "\n",
    "mycursor.executemany(\"Update prods SET Selling_price = %s where Id = %s\",[(33.00 , \"1\"),(59.00 , \"2\"),(100.00, \"3\"),(99.00, \"4\"),(78.00, \"5\"),(87.79, \"6\"),(50.00, \"7\"),(39.00, \"8\"),(69.00, \"9\"),(70.00, \"10\"),(20.00, \"11\"),(105.00, \"12\"),(23.00, \"13\"),(70.00, \"14\"),(40.00, \"15\"),(150.00, \"16\"),(70.00, \"17\"),(998.00, \"18\"),(47.00, \"19\"),(30.00, \"20\")])\n",
    "\n",
    "mydb.commit()"
   ]
  },
  {
   "cell_type": "code",
   "execution_count": 76,
   "metadata": {},
   "outputs": [
    {
     "name": "stdout",
     "output_type": "stream",
     "text": [
      "(18, 'Pork', 'Meat', 24, 998)\n",
      "(16, 'Chicken', 'Meat', 17, 150)\n",
      "(12, 'Vanilla', 'Cupcakes', 40, 105)\n",
      "(3, 'Coke', 'Cooldrinks', 28, 100)\n",
      "(4, 'Fanta', 'Cooldrinks', 18, 99)\n",
      "(6, 'Tex', 'Chocolate', 40, 88)\n",
      "(5, 'Chocolate', 'Chocolate', 58, 78)\n",
      "(10, 'Apple', 'Fruits', 4, 70)\n",
      "(14, 'Spinach', 'Veggies', 13, 70)\n",
      "(17, 'Beef', 'Meat', 38, 70)\n",
      "(9, 'Pear', 'Fruits', 39, 69)\n",
      "(2, 'Lays', 'Chips', 45, 59)\n",
      "(7, 'Pepper Steak', 'Pies', 25, 50)\n",
      "(19, 'Corona', 'Alcohol', 49, 47)\n",
      "(15, 'Cabbage', 'Veggies', 28, 40)\n",
      "(8, 'Chicken', 'Pies', 78, 39)\n",
      "(1, 'Simba', 'Chips', 23, 33)\n",
      "(20, 'Clipdrift', 'Alcohol', 20, 30)\n",
      "(13, 'Chocolate', 'Cupcake', 18, 23)\n",
      "(11, 'Orange', 'Fruits', 11, 20)\n"
     ]
    }
   ],
   "source": [
    "# ORGANIZE MY DATA\n",
    "\n",
    "import mysql.connector\n",
    "mydb = mysql.connector.connect(\n",
    "    host=\"localhost\",\n",
    "    user=\"root\",\n",
    "    password=\"C@pac1t!\",\n",
    "    database=\"mydatabase\"\n",
    ")\n",
    "\n",
    "mycursor = mydb.cursor()\n",
    "\n",
    "sql = \"SELECT * FROM prods ORDER BY Selling_price DESC\" # DESC to change order\n",
    "\n",
    "mycursor.execute(sql)\n",
    "\n",
    "myresult = mycursor.fetchall()\n",
    "\n",
    "for r in myresult:\n",
    "    print(r)"
   ]
  },
  {
   "cell_type": "code",
   "execution_count": null,
   "metadata": {},
   "outputs": [],
   "source": []
  }
 ],
 "metadata": {
  "kernelspec": {
   "display_name": "Python 3",
   "language": "python",
   "name": "python3"
  },
  "language_info": {
   "codemirror_mode": {
    "name": "ipython",
    "version": 3
   },
   "file_extension": ".py",
   "mimetype": "text/x-python",
   "name": "python",
   "nbconvert_exporter": "python",
   "pygments_lexer": "ipython3",
   "version": "3.7.6"
  }
 },
 "nbformat": 4,
 "nbformat_minor": 4
}
