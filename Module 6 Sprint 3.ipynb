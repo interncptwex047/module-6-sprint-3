{
 "cells": [
  {
   "cell_type": "code",
   "execution_count": null,
   "metadata": {},
   "outputs": [],
   "source": [
    "# deleting a table\n",
    "import mysql.connector\n",
    "mydb = mysql.connector.connect(\n",
    "    host=\"localhost\",\n",
    "    user=\"root\",\n",
    "    password=\"C@pac1t!\",\n",
    "    database=\"mydatabase\"\n",
    ")\n",
    "\n",
    "mycursor = mydb.cursor()\n",
    "sql = \"DROP TABLE IF EXISTS prods\" #product was the table\n",
    "mycursor.execute(sql)\n",
    "\n",
    "mydb.commit()"
   ]
  },
  {
   "cell_type": "code",
   "execution_count": null,
   "metadata": {},
   "outputs": [],
   "source": [
    "# create a table for the products on mydatabase\n",
    "import mysql.connector\n",
    "mydb = mysql.connector.connect(\n",
    "    host=\"localhost\",\n",
    "    user=\"root\",\n",
    "    password=\"C@pac1t!\",\n",
    "    database=\"mydatabase\"\n",
    ")\n",
    "\n",
    "mycursor = mydb.cursor()\n",
    "\n",
    "mycursor.execute(\"CREATE TABLE prods(Id INT AUTO_INCREMENT PRIMARY KEY, Name VARCHAR(255), Category VARCHAR(255))\")"
   ]
  },
  {
   "cell_type": "code",
   "execution_count": null,
   "metadata": {},
   "outputs": [],
   "source": [
    "# create a table for the products on mydatabase\n",
    "import mysql.connector\n",
    "mydb = mysql.connector.connect(\n",
    "    host=\"localhost\",\n",
    "    user=\"root\",\n",
    "    password=\"C@pac1t!\",\n",
    "    database=\"mydatabase\"\n",
    ")\n",
    "\n",
    "mycursor = mydb.cursor()\n",
    "\n",
    "sqlFormula = \"INSERT INTO prods(Id, Name, Category) VALUES(%s,%s,%s)\"\n",
    "data = [(1, 'Simba', 'Chips'),\n",
    "            (2, 'Lays', 'Chips'),\n",
    "            (3, 'Coke','Cooldrinks'),\n",
    "            (4, 'Fanta','Cooldrinks'),\n",
    "            (5, 'Chocolate','Chocolate'),\n",
    "            (6, 'Tex','Chocolate'),\n",
    "            (7,'Pepper Steak','Pies'),\n",
    "            (8, 'Chicken', 'Pies'),\n",
    "            (9, 'Pear', 'Fruits'),\n",
    "            (10, 'Apple','Fruits'),\n",
    "            (11,'Orange', 'Fruits'),\n",
    "            (12, 'Vanilla', 'Cupcakes'),\n",
    "            (13, 'Chocolate', 'Cupcake'),\n",
    "            (14, 'Spinach', 'Veggies'),\n",
    "            (15,'Cabbage','Veggies')]\n",
    "\n",
    "mycursor.executemany(sqlFormula, data)\n",
    "\n",
    "mydb.commit()"
   ]
  },
  {
   "cell_type": "code",
   "execution_count": null,
   "metadata": {},
   "outputs": [],
   "source": [
    "# SPRINT 3"
   ]
  },
  {
   "cell_type": "code",
   "execution_count": null,
   "metadata": {},
   "outputs": [],
   "source": [
    "# Add new products\n",
    "\n",
    "import mysql.connector\n",
    "mydb = mysql.connector.connect(\n",
    "    host=\"localhost\",\n",
    "    user=\"root\",\n",
    "    password=\"C@pac1t!\",\n",
    "    database=\"mydatabase\"\n",
    ")\n",
    "\n",
    "mycursor = mydb.cursor()\n",
    "\n",
    "sqlFormula = \"INSERT INTO prods(Id, Name, Category) VALUES(%s,%s,%s)\"\n",
    "data = [(16, 'Chicken', 'Meat'),\n",
    "            (17, 'Beef', 'Meat'),\n",
    "            (18, 'Pork','Meat'),\n",
    "            (19, 'Corona','Alcohol'),\n",
    "            (20, 'Clipdrift','Alcohol')]\n",
    "\n",
    "mycursor.executemany(sqlFormula, data)\n",
    "\n",
    "mydb.commit()"
   ]
  },
  {
   "cell_type": "code",
   "execution_count": null,
   "metadata": {},
   "outputs": [],
   "source": [
    "# Create new column\n",
    "\n",
    "import mysql.connector\n",
    "mydb = mysql.connector.connect(\n",
    "    host=\"localhost\",\n",
    "    user=\"root\",\n",
    "    password=\"C@pac1t!\",\n",
    "    database=\"mydatabase\"\n",
    ")\n",
    "\n",
    "mycursor = mydb.cursor()\n",
    "\n",
    "mycursor.execute(\"ALTER TABLE prods ADD Stock_availability INT(10) AFTER Category, ADD Selling_price INT(10) AFTER Stock_availability\")"
   ]
  },
  {
   "cell_type": "code",
   "execution_count": null,
   "metadata": {},
   "outputs": [],
   "source": [
    "# Insert prods on new columns\n",
    "\n",
    "import mysql.connector\n",
    "mydb = mysql.connector.connect(\n",
    "    host=\"localhost\",\n",
    "    user=\"root\",\n",
    "    password=\"C@pac1t!\",\n",
    "    database=\"mydatabase\"\n",
    ")\n",
    "\n",
    "mycursor = mydb.cursor()\n",
    "\n",
    "mycursor.executemany(\"Update prods SET Stock_availability = %s where Id = %s\",[(23 , \"1\"),(45 , \"2\"),(28, \"3\"),(18, \"4\"),(58, \"5\"),(40, \"6\"),(25, \"7\"),(78, \"8\"),(39, \"9\"),(4, \"10\"),(11, \"11\"),(40, \"12\"),(18, \"13\"),(13, \"14\"),(28, \"15\"),(17, \"16\"),(38, \"17\"),(24, \"18\"),(49, \"19\"),(20, \"20\")])\n",
    "\n",
    "mydb.commit()"
   ]
  },
  {
   "cell_type": "code",
   "execution_count": null,
   "metadata": {},
   "outputs": [],
   "source": [
    "# Insert prods on new columns\n",
    "\n",
    "import mysql.connector\n",
    "mydb = mysql.connector.connect(\n",
    "    host=\"localhost\",\n",
    "    user=\"root\",\n",
    "    password=\"C@pac1t!\",\n",
    "    database=\"mydatabase\"\n",
    ")\n",
    "\n",
    "mycursor = mydb.cursor()\n",
    "\n",
    "mycursor.executemany(\"Update prods SET Selling_price = %s where Id = %s\",[(33.00 , \"1\"),(59.00 , \"2\"),(100.00, \"3\"),(99.00, \"4\"),(78.00, \"5\"),(87.79, \"6\"),(50.00, \"7\"),(39.00, \"8\"),(69.00, \"9\"),(70.00, \"10\"),(20.00, \"11\"),(105.00, \"12\"),(23.00, \"13\"),(70.00, \"14\"),(40.00, \"15\"),(150.00, \"16\"),(70.00, \"17\"),(998.00, \"18\"),(47.00, \"19\"),(30.00, \"20\")])\n",
    "\n",
    "mydb.commit()"
   ]
  },
  {
   "cell_type": "code",
   "execution_count": null,
   "metadata": {},
   "outputs": [],
   "source": [
    "# ORGANIZE MY DATA\n",
    "\n",
    "import mysql.connector\n",
    "mydb = mysql.connector.connect(\n",
    "    host=\"localhost\",\n",
    "    user=\"root\",\n",
    "    password=\"C@pac1t!\",\n",
    "    database=\"mydatabase\"\n",
    ")\n",
    "\n",
    "mycursor = mydb.cursor()\n",
    "\n",
    "sql = \"SELECT * FROM prods ORDER BY Selling_price DESC\" # DESC to change order\n",
    "\n",
    "mycursor.execute(sql)\n",
    "\n",
    "myresult = mycursor.fetchall()\n",
    "\n",
    "for r in myresult:\n",
    "    print(r)"
   ]
  },
  {
   "cell_type": "code",
   "execution_count": null,
   "metadata": {},
   "outputs": [],
   "source": [
    "# Create separate table for each product\n"
   ]
  },
  {
   "cell_type": "code",
   "execution_count": null,
   "metadata": {},
   "outputs": [],
   "source": [
    "# create a table for each products on mydatabase\n",
    "import mysql.connector\n",
    "mydb = mysql.connector.connect(\n",
    "    host=\"localhost\",\n",
    "    user=\"root\",\n",
    "    password=\"C@pac1t!\",\n",
    "    database=\"mydatabase\"\n",
    ")\n",
    "\n",
    "mycursor = mydb.cursor()\n",
    "\n",
    "mycursor.execute(\"CREATE TABLE Chips(Id INT AUTO_INCREMENT PRIMARY KEY, Name VARCHAR(255), Category VARCHAR(255), Stock_availability INT(10), Selling_price INT(10))\")\n",
    "mycursor.execute(\"CREATE TABLE Cooldrinks(Id INT AUTO_INCREMENT PRIMARY KEY, Name VARCHAR(255), Category VARCHAR(255), Stock_availability INT(10), Selling_price INT(10))\")\n",
    "mycursor.execute(\"CREATE TABLE Chocolate(Id INT AUTO_INCREMENT PRIMARY KEY, Name VARCHAR(255), Category VARCHAR(255), Stock_availability INT(10), Selling_price INT(10))\")\n",
    "mycursor.execute(\"CREATE TABLE Pies(Id INT AUTO_INCREMENT PRIMARY KEY, Name VARCHAR(255), Category VARCHAR(255), Stock_availability INT(10), Selling_price INT(10))\")\n",
    "mycursor.execute(\"CREATE TABLE Fruits(Id INT AUTO_INCREMENT PRIMARY KEY, Name VARCHAR(255), Category VARCHAR(255), Stock_availability INT(10), Selling_price INT(10))\")\n",
    "mycursor.execute(\"CREATE TABLE Cupcakes(Id INT AUTO_INCREMENT PRIMARY KEY, Name VARCHAR(255), Category VARCHAR(255), Stock_availability INT(10), Selling_price INT(10))\")\n",
    "mycursor.execute(\"CREATE TABLE Veggies(Id INT AUTO_INCREMENT PRIMARY KEY, Name VARCHAR(255), Category VARCHAR(255), Stock_availability INT(10), Selling_price INT(10))\")\n",
    "mycursor.execute(\"CREATE TABLE Meat(Id INT AUTO_INCREMENT PRIMARY KEY, Name VARCHAR(255), Category VARCHAR(255), Stock_availability INT(10), Selling_price INT(10))\")\n",
    "mycursor.execute(\"CREATE TABLE Alcohol(Id INT AUTO_INCREMENT PRIMARY KEY, Name VARCHAR(255), Category VARCHAR(255), Stock_availability INT(10), Selling_price INT(10))\")\n",
    "\n"
   ]
  },
  {
   "cell_type": "code",
   "execution_count": 1,
   "metadata": {
    "scrolled": true
   },
   "outputs": [],
   "source": [
    "import mysql.connector\n",
    "mydb = mysql.connector.connect(\n",
    "    host=\"localhost\",\n",
    "    user=\"root\",\n",
    "    password=\"C@pac1t!\",\n",
    "    database=\"mydatabase\"\n",
    ")\n",
    "\n",
    "mycursor = mydb.cursor()"
   ]
  },
  {
   "cell_type": "code",
   "execution_count": 2,
   "metadata": {},
   "outputs": [],
   "source": [
    "sqlFormula = \"INSERT INTO Chips(Id, Name, Category, Stock_availability, Selling_price) VALUES(%s,%s,%s,%s,%s)\"\n",
    "Chips = [(1, 'Simba', 'Chips', 23, 33),\n",
    "            (2, 'Lays', 'Chips', 45, 59)]\n",
    "mycursor.executemany(sqlFormula, Chips)\n",
    "mydb.commit()"
   ]
  },
  {
   "cell_type": "code",
   "execution_count": 3,
   "metadata": {},
   "outputs": [],
   "source": [
    "sqlFormula = \"INSERT INTO Cooldrinks(Id, Name, Category, Stock_availability, Selling_price) VALUES(%s,%s,%s,%s,%s)\"\n",
    "Cooldrinks = [(1, 'Coke', 'Cooldrinks', 28, 100 ),\n",
    "            (2, 'Fanta', 'Cooldrinks', 18, 99)]\n",
    "mycursor.executemany(sqlFormula, Cooldrinks)\n",
    "mydb.commit()"
   ]
  },
  {
   "cell_type": "code",
   "execution_count": 4,
   "metadata": {},
   "outputs": [],
   "source": [
    "sqlFormula = \"INSERT INTO Chocolate(Id, Name, Category, Stock_availability, Selling_price) VALUES(%s,%s,%s,%s,%s)\"\n",
    "Chocolate = [(1, 'Simba', 'Chocolate', 58, 78),\n",
    "            (2, 'Lays', 'Chocolate', 40, 88)]\n",
    "mycursor.executemany(sqlFormula, Chocolate)\n",
    "mydb.commit()"
   ]
  },
  {
   "cell_type": "code",
   "execution_count": 5,
   "metadata": {},
   "outputs": [],
   "source": [
    "sqlFormula = \"INSERT INTO Pies(Id, Name, Category, Stock_availability, Selling_price) VALUES(%s,%s,%s,%s,%s)\"\n",
    "Pies = [(1, 'Pepper Steak', 'Pies', 25, 50),\n",
    "            (2, 'Chicken', 'Pies', 78, 39)]\n",
    "mycursor.executemany(sqlFormula, Pies)\n",
    "mydb.commit()"
   ]
  },
  {
   "cell_type": "code",
   "execution_count": 6,
   "metadata": {},
   "outputs": [],
   "source": [
    "sqlFormula = \"INSERT INTO Fruits(Id, Name, Category, Stock_availability, Selling_price) VALUES(%s,%s,%s,%s,%s)\"\n",
    "Fruits = [(1, 'Pear', 'Fruits', 39, 69),\n",
    "            (2, 'Apple', 'Fruits', 4, 70),\n",
    "       (3, 'Orange', 'Fruits', 11, 20)]\n",
    "mycursor.executemany(sqlFormula, Fruits)\n",
    "mydb.commit()"
   ]
  },
  {
   "cell_type": "code",
   "execution_count": 7,
   "metadata": {},
   "outputs": [],
   "source": [
    "sqlFormula = \"INSERT INTO Cupcakes(Id, Name, Category, Stock_availability, Selling_price) VALUES(%s,%s,%s,%s,%s)\"\n",
    "Cupcakes = [(1, 'Vanilla', 'Cupcakes', 40, 105),\n",
    "            (2, 'Chocolate', 'Cupcake', 18, 23)]\n",
    "mycursor.executemany(sqlFormula, Cupcakes)\n",
    "mydb.commit()"
   ]
  },
  {
   "cell_type": "code",
   "execution_count": 8,
   "metadata": {},
   "outputs": [],
   "source": [
    "sqlFormula = \"INSERT INTO Veggies(Id, Name, Category, Stock_availability, Selling_price) VALUES(%s,%s,%s,%s,%s)\"\n",
    "Veggies = [(1, 'Spiinach', 'Veggies', 13, 70),\n",
    "            (2, 'Cabbage', 'Veggies', 28, 40)]\n",
    "mycursor.executemany(sqlFormula, Veggies)\n",
    "mydb.commit()"
   ]
  },
  {
   "cell_type": "code",
   "execution_count": 9,
   "metadata": {},
   "outputs": [],
   "source": [
    "sqlFormula = \"INSERT INTO Meat(Id, Name, Category, Stock_availability, Selling_price) VALUES(%s,%s,%s,%s,%s)\"\n",
    "Meat = [(1, 'Chicken', 'Meat', 17, 150),\n",
    "            (2, 'Beef', 'Meat', 38,70 ),\n",
    "       (3, 'Pork', 'Meat', 24, 998)]\n",
    "mycursor.executemany(sqlFormula, Meat)\n",
    "mydb.commit()"
   ]
  },
  {
   "cell_type": "code",
   "execution_count": 10,
   "metadata": {},
   "outputs": [],
   "source": [
    "sqlFormula = \"INSERT INTO Alcohol(Id, Name, Category, Stock_availability, Selling_price) VALUES(%s,%s,%s,%s,%s)\"\n",
    "Alcohol = [(1, 'Corona', 'Alcohol', 49, 47),\n",
    "            (2, 'Clipdrift', 'Alcohol', 20, 30)]\n",
    "mycursor.executemany(sqlFormula, Alcohol)\n",
    "mydb.commit()"
   ]
  }
 ],
 "metadata": {
  "kernelspec": {
   "display_name": "Python 3",
   "language": "python",
   "name": "python3"
  },
  "language_info": {
   "codemirror_mode": {
    "name": "ipython",
    "version": 3
   },
   "file_extension": ".py",
   "mimetype": "text/x-python",
   "name": "python",
   "nbconvert_exporter": "python",
   "pygments_lexer": "ipython3",
   "version": "3.7.6"
  }
 },
 "nbformat": 4,
 "nbformat_minor": 4
}
